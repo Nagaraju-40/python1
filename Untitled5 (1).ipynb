{
  "nbformat": 4,
  "nbformat_minor": 0,
  "metadata": {
    "colab": {
      "provenance": []
    },
    "kernelspec": {
      "name": "python3",
      "display_name": "Python 3"
    },
    "language_info": {
      "name": "python"
    }
  },
  "cells": [
    {
      "cell_type": "markdown",
      "source": [
        "# Title of the project"
      ],
      "metadata": {
        "id": "73B79c_sax1f"
      }
    },
    {
      "cell_type": "code",
      "source": [
        "#movie recommendation System\n"
      ],
      "metadata": {
        "id": "BOjh2wi_bkhP"
      },
      "execution_count": null,
      "outputs": []
    },
    {
      "cell_type": "markdown",
      "source": [
        "# Objective"
      ],
      "metadata": {
        "id": "qw1rtRJ9bthC"
      }
    },
    {
      "cell_type": "code",
      "source": [
        "#A movie recommendation system's primary objective is to suggest films to users based on their preferences, viewing history, and behavior patterns, while improving user satisfaction and engagement."
      ],
      "metadata": {
        "id": "6H07Kwvlbx9W"
      },
      "execution_count": null,
      "outputs": []
    },
    {
      "cell_type": "markdown",
      "source": [
        "# Data Source"
      ],
      "metadata": {
        "id": "6NkNvzZHcewi"
      }
    },
    {
      "cell_type": "code",
      "source": [
        "#mavenanalytic"
      ],
      "metadata": {
        "id": "hcxpK8B4c3Th"
      },
      "execution_count": null,
      "outputs": []
    },
    {
      "cell_type": "markdown",
      "source": [
        "# import library"
      ],
      "metadata": {
        "id": "sRZbL_3SdQVQ"
      }
    },
    {
      "cell_type": "code",
      "source": [
        "import numpy as np # linear algebra\n",
        "import pandas as pd # data processing\n",
        "import matplotlib.pyplot as plt\n",
        "\n",
        "paths = {}\n",
        "\n",
        "import os\n",
        "for dirname, _, filenames in os.walk('/kaggle/input'):\n",
        "    for filename in filenames:\n",
        "        print(os.path.join(dirname, filename))\n",
        "        paths[filename] = os.path.join(dirname, filename)"
      ],
      "metadata": {
        "id": "yseWzJmUdUFP"
      },
      "execution_count": 6,
      "outputs": []
    },
    {
      "cell_type": "code",
      "source": [
        "from google.colab import drive\n",
        "drive.mount('/content/drive')"
      ],
      "metadata": {
        "id": "I6jPaDwdiaiP"
      },
      "execution_count": null,
      "outputs": []
    },
    {
      "cell_type": "code",
      "source": [
        "from sklearn.preprocessing import MultiLabelBinarizer # one-hot encoding\n",
        "from sklearn.neighbors import NearestNeighbors # KNN"
      ],
      "metadata": {
        "id": "1CmYu2x9ewLA"
      },
      "execution_count": 22,
      "outputs": []
    }
  ]
}